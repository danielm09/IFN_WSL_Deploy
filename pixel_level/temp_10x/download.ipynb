{
 "cells": [
  {
   "cell_type": "code",
   "execution_count": null,
   "metadata": {},
   "outputs": [],
   "source": [
    "!pip install onedrivedownloader"
   ]
  },
  {
   "cell_type": "code",
   "execution_count": null,
   "metadata": {},
   "outputs": [],
   "source": [
    "from onedrivedownloader import download"
   ]
  },
  {
   "cell_type": "code",
   "execution_count": null,
   "metadata": {},
   "outputs": [],
   "source": [
    "ln = \"https://liveeduisegiunl-my.sharepoint.com/:u:/g/personal/g20180450_novaims_unl_pt/ETbP6ptH0M9Mitfflo6bn6QB8zhas5x4W1JlVkQh-q86hg?e=nd5Pbd\"\n",
    "download(ln, filename=\"crops_train_seg_all_augmented.hdf5\", unzip=False)"
   ]
  },
  {
   "cell_type": "code",
   "execution_count": null,
   "metadata": {},
   "outputs": [],
   "source": [
    "ln = \"https://liveeduisegiunl-my.sharepoint.com/:u:/g/personal/g20180450_novaims_unl_pt/EVMf-hl8-zdLtbjSJGDd9qsBRufM5yOSAGfvF8BWHszMKQ?e=JNjtzx\"\n",
    "download(ln, filename=\"crops_test_seg_all.hdf5\", unzip=False)"
   ]
  }
 ],
 "metadata": {
  "language_info": {
   "name": "python"
  }
 },
 "nbformat": 4,
 "nbformat_minor": 2
}
